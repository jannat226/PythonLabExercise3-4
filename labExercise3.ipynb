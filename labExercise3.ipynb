{
 "cells": [
  {
   "cell_type": "code",
   "execution_count": 13,
   "metadata": {},
   "outputs": [
    {
     "name": "stdout",
     "output_type": "stream",
     "text": [
      "42\n",
      "{'Name': [' Jannat'], 'Domain': ['OnlinePodcastPlatform'], 'RegNo': ['2347201']}\n",
      "{'Name': [' Jannat'], 'Domain': ['OnlinePodcastPlatform'], 'RegNo': ['2347201']}\n"
     ]
    }
   ],
   "source": [
    "# stringFunction\n",
    "# stringFunction\n",
    "\n",
    "def split_input_string(stringsplit):\n",
    "    \n",
    "    parts = stringsplit.split('_')\n",
    "    parts = list(filter(None,parts))\n",
    "   \n",
    "   \n",
    "    resultant_dict = {\"Name\": [], \"Domain\": [], \"RegNo\": []}\n",
    "\n",
    "\n",
    "    for i in range(len(parts)):\n",
    "        if (i == 0):\n",
    "            resultant_dict[\"Name\"].append(parts[0])\n",
    "            # print(parts[i])\n",
    "        elif (i == 1):\n",
    "            resultant_dict[\"Domain\"].append(parts[1])\n",
    "        elif (i == 2):\n",
    "            resultant_dict[\"RegNo\"].append(parts[2])\n",
    "    print(resultant_dict)\n",
    "\n",
    "    return resultant_dict\n",
    "# Test the function\n",
    "input_string = \" Jannat___OnlinePodcastPlatform____2347201\"\n",
    "resultant_dict = split_input_string(input_string)\n",
    "print(resultant_dict)\n",
    "\n",
    "\n",
    "\n",
    "\n"
   ]
  }
 ],
 "metadata": {
  "kernelspec": {
   "display_name": "Python 3",
   "language": "python",
   "name": "python3"
  },
  "language_info": {
   "codemirror_mode": {
    "name": "ipython",
    "version": 3
   },
   "file_extension": ".py",
   "mimetype": "text/x-python",
   "name": "python",
   "nbconvert_exporter": "python",
   "pygments_lexer": "ipython3",
   "version": "3.11.4"
  },
  "orig_nbformat": 4
 },
 "nbformat": 4,
 "nbformat_minor": 2
}
