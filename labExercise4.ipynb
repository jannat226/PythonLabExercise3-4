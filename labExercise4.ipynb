{
 "cells": [
  {
   "cell_type": "code",
   "execution_count": 1,
   "metadata": {},
   "outputs": [
    {
     "name": "stdout",
     "output_type": "stream",
     "text": [
      " Podcast: Think Like A monk\n",
      "Host : Jay Sheety\n"
     ]
    }
   ],
   "source": [
    "# multiple inheritance\n",
    " \n",
    "# Base class1\n",
    "class Podcast:\n",
    "    podcastName = \"\"\n",
    " \n",
    "    def podcast(self):\n",
    "        print(self.podcast)\n",
    " \n",
    "# Base class2\n",
    "class Host:\n",
    "    hostName = \"\"\n",
    " \n",
    "    def host(self):\n",
    "        print(self.hostName)\n",
    " \n",
    "# Derived class \n",
    "class details(Podcast, Host):\n",
    "    def data(self):\n",
    "        print(\" Podcast:\", self.podcastName)\n",
    "        print(\"Host :\", self.hostName)\n",
    " \n",
    " \n",
    "# Driver's code\n",
    "s1 = details()\n",
    "s1.podcastName = \"Think Like A monk\"\n",
    "s1.hostName= \"Jay Sheety\"\n",
    "s1.data()"
   ]
  },
  {
   "cell_type": "markdown",
   "metadata": {},
   "source": []
  },
  {
   "cell_type": "code",
   "execution_count": 3,
   "metadata": {},
   "outputs": [
    {
     "name": "stdout",
     "output_type": "stream",
     "text": [
      "Self Growth\n",
      "Podcast name : Self Growth\n",
      "Title name : ThinkLikeAmonk\n",
      "Host name : Jay Shetty\n"
     ]
    }
   ],
   "source": [
    "# Python program to demonstrate\n",
    "# multilevel inheritance\n",
    "\n",
    "# Base class\n",
    "\n",
    "\n",
    "class Podcast:\n",
    "\n",
    "\tdef __init__(self, Podcastname):\n",
    "\t\tself.Podcastname = Podcastname\n",
    "\n",
    "# Intermediate class\n",
    "\n",
    "\n",
    "class Title(Podcast):\n",
    "\tdef __init__(self, podcastTitle, Podcastname):\n",
    "\t\tself.podcastTitle = podcastTitle\n",
    "\n",
    "\t\t# invoking constructor of Podcast class\n",
    "\t\tPodcast.__init__(self, Podcastname)\n",
    "\n",
    "# Derived class\n",
    "\n",
    "\n",
    "class Host(Title):\n",
    "\tdef __init__(self, hostName, podcastTitle, Podcastname):\n",
    "\t\tself.hostName = hostName\n",
    "\n",
    "\t\t# invoking constructor of Father class\n",
    "\t\tTitle.__init__(self, podcastTitle, Podcastname)\n",
    "\n",
    "\tdef print_name(self):\n",
    "\t\tprint('Podcast name :', self.Podcastname)\n",
    "\t\tprint(\"Title name :\", self.podcastTitle)\n",
    "\t\tprint(\"Host name :\", self.hostName)\n",
    "\n",
    "\n",
    "# Driver code\n",
    "s1 = Host('Jay Shetty', 'ThinkLikeAmonk', 'Self Growth')\n",
    "print(s1.Podcastname)\n",
    "s1.print_name()\n"
   ]
  },
  {
   "cell_type": "code",
   "execution_count": 2,
   "metadata": {},
   "outputs": [
    {
     "name": "stdout",
     "output_type": "stream",
     "text": [
      "This function is in parent class,which takes podcast.\n",
      "This function is in child 1,which takes podcastname\n",
      "This function is in parent class,which takes podcast.\n",
      "This function is in child 2,which takes podcastvalue\n"
     ]
    }
   ],
   "source": [
    "# Python program to demonstrate\n",
    "# Hierarchical inheritance\n",
    "\n",
    "\n",
    "# Base class\n",
    "class Podcast:\n",
    "\tdef func1(self):\n",
    "\t\tprint(\"This function is in parent class,which takes podcast.\")\n",
    "\n",
    "# Derived class1\n",
    "\n",
    "\n",
    "class PodcastName(Podcast):\n",
    "\tdef func2(self):\n",
    "\t\tprint(\"This function is in child 1,which takes podcastname\")\n",
    "\n",
    "# Derivied class2\n",
    "\n",
    "\n",
    "class PodcastTitle(Podcast):\n",
    "\tdef func3(self):\n",
    "\t\tprint(\"This function is in child 2,which takes podcastvalue\")\n",
    "\n",
    "\n",
    "# Driver's code\n",
    "object1 = PodcastName()\n",
    "object2 = PodcastTitle()\n",
    "object1.func1()\n",
    "object1.func2()\n",
    "object2.func1()\n",
    "object2.func3()\n"
   ]
  }
 ],
 "metadata": {
  "kernelspec": {
   "display_name": "Python 3",
   "language": "python",
   "name": "python3"
  },
  "language_info": {
   "codemirror_mode": {
    "name": "ipython",
    "version": 3
   },
   "file_extension": ".py",
   "mimetype": "text/x-python",
   "name": "python",
   "nbconvert_exporter": "python",
   "pygments_lexer": "ipython3",
   "version": "3.11.4"
  },
  "orig_nbformat": 4
 },
 "nbformat": 4,
 "nbformat_minor": 2
}
